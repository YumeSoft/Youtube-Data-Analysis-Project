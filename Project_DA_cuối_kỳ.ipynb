{
  "nbformat": 4,
  "nbformat_minor": 0,
  "metadata": {
    "colab": {
      "provenance": [],
      "toc_visible": true
    },
    "kernelspec": {
      "name": "python3",
      "display_name": "Python 3"
    },
    "language_info": {
      "name": "python"
    }
  },
  "cells": [
    {
      "cell_type": "markdown",
      "source": [
        "#**Đề tài: Phân tích, thống kê video thịnh hành trên youtube dựa trên hơn 40.000 video**\n"
      ],
      "metadata": {
        "id": "MDWOI6KjlO-n"
      }
    },
    {
      "cell_type": "markdown",
      "source": [
        "# 1. Gather data"
      ],
      "metadata": {
        "id": "bQ3nTVIanagp"
      }
    },
    {
      "cell_type": "markdown",
      "source": [
        "## 1.1 Problem Statement\n",
        "**Trần Phan Minh Tiến**\n",
        "\n",
        "    Question 1: Có phải số lượt xem lớn là điều kiện tiên quyết để một video trở thành thịnh hành không?\n",
        "\n",
        "    Question 2: Biểu đồ cột khối lượng giao dịch theo năm 2015 - 2025\n",
        "**Trần Minh Thuận**\n",
        "\n",
        "    Question 3: Biểu đồ thể hiện khối lượng giao dịch theo từng tháng năm 2024\n",
        "\n",
        "    Question 4: Vẽ biểu đồ lợi nhuận hàng tháng năm 2024\n",
        "**Hoàng Văn Đức**\n",
        "\n",
        "    Question 5: Vẽ biểu đồ thể hiện Số lượng chứng khoán bán theo quý (2015, 2020, 2024)\n",
        "\n",
        "    Question 6: Vẽ biểu đồ thể hiện Giá cao trung bình theo ngày trong tuần năm 2024"
      ],
      "metadata": {
        "id": "XFOSXz1qncCY"
      }
    },
    {
      "cell_type": "markdown",
      "source": [
        "## 1.2 Import libraries:"
      ],
      "metadata": {
        "id": "B_tf4w5DZcXJ"
      }
    },
    {
      "cell_type": "code",
      "source": [
        "from google.colab import drive\n",
        "drive.mount('/content/drive')\n"
      ],
      "metadata": {
        "colab": {
          "base_uri": "https://localhost:8080/"
        },
        "id": "HcDTWXuHYMT9",
        "outputId": "6cd2cb37-0888-42e3-8189-3ce40e79c15b"
      },
      "execution_count": null,
      "outputs": [
        {
          "output_type": "stream",
          "name": "stdout",
          "text": [
            "Mounted at /content/drive\n"
          ]
        }
      ]
    },
    {
      "cell_type": "code",
      "source": [
        "import os\n",
        "import pandas as pd\n",
        "\n",
        "drive_path = '/content/drive/MyDrive/Colab Notebooks/data-ytb'\n",
        "\n",
        "files = os.listdir(drive_path)\n",
        "\n",
        "csv_files = [file for file in files if file.endswith('.csv')]\n",
        "\n",
        "for file in csv_files:\n",
        "    file_path = os.path.join(drive_path, file)\n",
        "    print(f\"Đang đọc tệp: {file_path}\")\n",
        "    try:\n",
        "        df = pd.read_csv(file_path, encoding='ISO-8859-1')\n",
        "        print(df.head())\n",
        "    except UnicodeDecodeError as e:\n",
        "        print(f\"Lỗi khi đọc tệp {file}: {e}\")\n"
      ],
      "metadata": {
        "colab": {
          "base_uri": "https://localhost:8080/"
        },
        "collapsed": true,
        "id": "8NqOOus7ZYBR",
        "outputId": "ee52ad6c-f28e-43e1-e990-99ceccc17820"
      },
      "execution_count": null,
      "outputs": [
        {
          "output_type": "stream",
          "name": "stdout",
          "text": [
            "Đang đọc tệp: /content/drive/MyDrive/Colab Notebooks/data-ytb/CAvideos.csv\n",
            "      video_id trending_date  \\\n",
            "0  n1WpP7iowLc      17.14.11   \n",
            "1  0dBIkQ4Mz1M      17.14.11   \n",
            "2  5qpjK5DgCt4      17.14.11   \n",
            "3  d380meD0W0M      17.14.11   \n",
            "4  2Vv-BfVoq4g      17.14.11   \n",
            "\n",
            "                                               title channel_title  \\\n",
            "0        Eminem - Walk On Water (Audio) ft. BeyoncÃ©    EminemVEVO   \n",
            "1                      PLUSH - Bad Unboxing Fan Mail     iDubbbzTV   \n",
            "2  Racist Superman | Rudy Mancuso, King Bach & Le...  Rudy Mancuso   \n",
            "3                           I Dare You: GOING BALD!?      nigahiga   \n",
            "4        Ed Sheeran - Perfect (Official Music Video)    Ed Sheeran   \n",
            "\n",
            "   category_id              publish_time  \\\n",
            "0           10  2017-11-10T17:00:03.000Z   \n",
            "1           23  2017-11-13T17:00:00.000Z   \n",
            "2           23  2017-11-12T19:05:24.000Z   \n",
            "3           24  2017-11-12T18:01:41.000Z   \n",
            "4           10  2017-11-09T11:04:14.000Z   \n",
            "\n",
            "                                                tags     views    likes  \\\n",
            "0  Eminem|\"Walk\"|\"On\"|\"Water\"|\"Aftermath/Shady/In...  17158579   787425   \n",
            "1  plush|\"bad unboxing\"|\"unboxing\"|\"fan mail\"|\"id...   1014651   127794   \n",
            "2  racist superman|\"rudy\"|\"mancuso\"|\"king\"|\"bach\"...   3191434   146035   \n",
            "3  ryan|\"higa\"|\"higatv\"|\"nigahiga\"|\"i dare you\"|\"...   2095828   132239   \n",
            "4  edsheeran|\"ed sheeran\"|\"acoustic\"|\"live\"|\"cove...  33523622  1634130   \n",
            "\n",
            "   dislikes  comment_count                                  thumbnail_link  \\\n",
            "0     43420         125882  https://i.ytimg.com/vi/n1WpP7iowLc/default.jpg   \n",
            "1      1688          13030  https://i.ytimg.com/vi/0dBIkQ4Mz1M/default.jpg   \n",
            "2      5339           8181  https://i.ytimg.com/vi/5qpjK5DgCt4/default.jpg   \n",
            "3      1989          17518  https://i.ytimg.com/vi/d380meD0W0M/default.jpg   \n",
            "4     21082          85067  https://i.ytimg.com/vi/2Vv-BfVoq4g/default.jpg   \n",
            "\n",
            "   comments_disabled  ratings_disabled  video_error_or_removed  \\\n",
            "0              False             False                   False   \n",
            "1              False             False                   False   \n",
            "2              False             False                   False   \n",
            "3              False             False                   False   \n",
            "4              False             False                   False   \n",
            "\n",
            "                                         description  \n",
            "0  Eminem's new track Walk on Water ft. BeyoncÃ© ...  \n",
            "1  STill got a lot of packages. Probably will las...  \n",
            "2  WATCH MY PREVIOUS VIDEO â¶ \\n\\nSUBSCRIBE âº ...  \n",
            "3  I know it's been a while since we did this sho...  \n",
            "4  ð§: https://ad.gt/yt-perfect\\nð°: https://...  \n",
            "Đang đọc tệp: /content/drive/MyDrive/Colab Notebooks/data-ytb/DEvideos.csv\n",
            "      video_id trending_date  \\\n",
            "0  LgVi6y5QIjM      17.14.11   \n",
            "1  Bayt7uQith4      17.14.11   \n",
            "2  1ZAPwfrtAFY      17.14.11   \n",
            "3  AHtypnRk7JE      17.14.11   \n",
            "4  ZJ9We4bjcg0      17.14.11   \n",
            "\n",
            "                                               title            channel_title  \\\n",
            "0  Sing zu Ende! | Gesangseinlagen vom Feinsten |...                inscope21   \n",
            "1  Kinder ferngesteuert im Kiosk! Erwachsene abzo...  LUKE! Die Woche und ich   \n",
            "2  The Trump Presidency: Last Week Tonight with J...          LastWeekTonight   \n",
            "3                                Das Fermi-Paradoxon        100SekundenPhysik   \n",
            "4           18 SONGS mit Kelly MissesVlog (Sing-off)                     rezo   \n",
            "\n",
            "   category_id              publish_time  \\\n",
            "0           24  2017-11-13T17:08:49.000Z   \n",
            "1           23  2017-11-12T22:30:01.000Z   \n",
            "2           24  2017-11-13T07:30:00.000Z   \n",
            "3           27  2017-11-12T15:00:01.000Z   \n",
            "4           24  2017-11-12T13:10:36.000Z   \n",
            "\n",
            "                                                tags    views   likes  \\\n",
            "0  inscope21|\"sing zu ende\"|\"gesangseinlagen\"|\"ge...   252786   35885   \n",
            "1  Kinder|\"ferngesteuert\"|\"Kinder ferngesteuert\"|...   797196   53576   \n",
            "2  last week tonight trump presidency|\"last week ...  2418783   97190   \n",
            "3  Physik|\"Wissenschaft\"|\"Technik\"|\"Science-Ficti...   380247   31821   \n",
            "4  kelly|\"missesvlog\"|\"kelly song\"|\"bausa\"|\"bausa...   822213  100684   \n",
            "\n",
            "   dislikes  comment_count                                  thumbnail_link  \\\n",
            "0       230           1539  https://i.ytimg.com/vi/LgVi6y5QIjM/default.jpg   \n",
            "1       302           1278  https://i.ytimg.com/vi/Bayt7uQith4/default.jpg   \n",
            "2      6146          12703  https://i.ytimg.com/vi/1ZAPwfrtAFY/default.jpg   \n",
            "3       458           1955  https://i.ytimg.com/vi/AHtypnRk7JE/default.jpg   \n",
            "4      2467          10244  https://i.ytimg.com/vi/ZJ9We4bjcg0/default.jpg   \n",
            "\n",
            "   comments_disabled  ratings_disabled  video_error_or_removed  \\\n",
            "0              False             False                   False   \n",
            "1              False             False                   False   \n",
            "2              False             False                   False   \n",
            "3              False             False                   False   \n",
            "4              False             False                   False   \n",
            "\n",
            "                                         description  \n",
            "0  Heute gibt es mal wieder ein neues Format... w...  \n",
            "1  Kinder ferngesteuert! Kinder lassen sich sooo ...  \n",
            "2  One year after the presidential election, John...  \n",
            "3  âºAlle Videos: http://bit.ly/1fa7Tw3\\n\\n\\nâ...  \n",
            "4  18 Song Mashup Ã¼ber den (verÃ¤nderten) Beat v...  \n",
            "Đang đọc tệp: /content/drive/MyDrive/Colab Notebooks/data-ytb/FRvideos.csv\n",
            "      video_id trending_date  \\\n",
            "0  Ro6eob0LrCY      17.14.11   \n",
            "1  Yo84eqYwP98      17.14.11   \n",
            "2  ceqntSXE-10      17.14.11   \n",
            "3  WuTFI5qftCE      17.14.11   \n",
            "4  ee6OFs8TdEg      17.14.11   \n",
            "\n",
            "                                               title        channel_title  \\\n",
            "0           Malika LePen : Femme de Gauche - Trailer  Le Raptor Dissident   \n",
            "1  LA PIRE PARTIE ft Le Rire Jaune, Pierre Croce,...              Le Labo   \n",
            "2  DESSINS ANIMEÌS FRANCÌ§AIS VS RUSSES 2 - Dani...      Daniil le Russe   \n",
            "3                    PAPY GRENIER - METAL GEAR SOLID    Joueur Du Grenier   \n",
            "4  QUI SAUTERA LE PLUS HAUT ? (VÃLO SKATE ROLLER...    Aurelien Fontenoy   \n",
            "\n",
            "   category_id              publish_time  \\\n",
            "0           24  2017-11-13T17:32:55.000Z   \n",
            "1           24  2017-11-12T15:00:02.000Z   \n",
            "2           23  2017-11-13T17:00:38.000Z   \n",
            "3           20  2017-11-12T17:00:02.000Z   \n",
            "4           17  2017-11-13T16:30:03.000Z   \n",
            "\n",
            "                                                tags   views  likes  dislikes  \\\n",
            "0  Raptor\"|\"Dissident\"|\"Expliquez\"|\"moi\"|\"cette\"|...  212702  29282      1108   \n",
            "1                                             [none]  432721  14053       576   \n",
            "2  cartoon\"|\"pokÃ©mon\"|\"Ã©cole\"|\"ours\"|\"Ð¼ÑÐ»ÑÑ...  482153  76203       477   \n",
            "3  Papy grenier\"|\"Metal Gear Solid\"|\"PS1\"|\"Tirage...  925222  85016       550   \n",
            "4  vÃ©lo\"|\"vtt\"|\"bmx\"|\"freestyle\"|\"bike\"|\"mtb\"|\"d...  141695   8091        72   \n",
            "\n",
            "   comment_count                                  thumbnail_link  \\\n",
            "0           3817  https://i.ytimg.com/vi/Ro6eob0LrCY/default.jpg   \n",
            "1           1161  https://i.ytimg.com/vi/Yo84eqYwP98/default.jpg   \n",
            "2           9580  https://i.ytimg.com/vi/ceqntSXE-10/default.jpg   \n",
            "3           4303  https://i.ytimg.com/vi/WuTFI5qftCE/default.jpg   \n",
            "4            481  https://i.ytimg.com/vi/ee6OFs8TdEg/default.jpg   \n",
            "\n",
            "   comments_disabled  ratings_disabled  video_error_or_removed  \\\n",
            "0              False             False                   False   \n",
            "1              False             False                   False   \n",
            "2              False             False                   False   \n",
            "3              False             False                   False   \n",
            "4              False             False                   False   \n",
            "\n",
            "                                         description  \n",
            "0  Dimanche.\\n18h30.\\nSoyez prÃ©sents pour la vid...  \n",
            "1  Le jeu de sociÃ©tÃ©: https://goo.gl/hhG1Ta\\n\\n...  \n",
            "2  Une nouvelle dose de dessins animÃ©s franÃ§ais...  \n",
            "3  Nouvel ,Ã©pisode de Papy Grenier ! Ce mois-ci ...  \n",
            "4  Sauts Ã  plus de 4 mÃ¨tres de haut dans un tra...  \n",
            "Đang đọc tệp: /content/drive/MyDrive/Colab Notebooks/data-ytb/GBvideos.csv\n",
            "      video_id trending_date  \\\n",
            "0  Jw1Y-zhQURU      17.14.11   \n",
            "1  3s1rvMFUweQ      17.14.11   \n",
            "2  n1WpP7iowLc      17.14.11   \n",
            "3  PUTEiSjKwJU      17.14.11   \n",
            "4  rHwDegptbI4      17.14.11   \n",
            "\n",
            "                                               title  \\\n",
            "0      John Lewis Christmas Ad 2017 - #MozTheMonster   \n",
            "1        Taylor Swift: â¦Ready for It? (Live) - SNL   \n",
            "2        Eminem - Walk On Water (Audio) ft. BeyoncÃ©   \n",
            "3  Goals from Salford City vs Class of 92 and Fri...   \n",
            "4  Dashcam captures truck's near miss with child ...   \n",
            "\n",
            "                channel_title  category_id              publish_time  \\\n",
            "0                  John Lewis           26  2017-11-10T07:38:29.000Z   \n",
            "1         Saturday Night Live           24  2017-11-12T06:24:44.000Z   \n",
            "2                  EminemVEVO           10  2017-11-10T17:00:03.000Z   \n",
            "3  Salford City Football Club           17  2017-11-13T02:30:38.000Z   \n",
            "4            Cute Girl Videos           25  2017-11-13T01:45:13.000Z   \n",
            "\n",
            "                                                tags     views   likes  \\\n",
            "0  christmas|\"john lewis christmas\"|\"john lewis\"|...   7224515   55681   \n",
            "1  SNL|\"Saturday Night Live\"|\"SNL Season 43\"|\"Epi...   1053632   25561   \n",
            "2  Eminem|\"Walk\"|\"On\"|\"Water\"|\"Aftermath/Shady/In...  17158579  787420   \n",
            "3  Salford City FC|\"Salford City\"|\"Salford\"|\"Clas...     27833     193   \n",
            "4                                             [none]      9815      30   \n",
            "\n",
            "   dislikes  comment_count                                  thumbnail_link  \\\n",
            "0     10247           9479  https://i.ytimg.com/vi/Jw1Y-zhQURU/default.jpg   \n",
            "1      2294           2757  https://i.ytimg.com/vi/3s1rvMFUweQ/default.jpg   \n",
            "2     43420         125882  https://i.ytimg.com/vi/n1WpP7iowLc/default.jpg   \n",
            "3        12             37  https://i.ytimg.com/vi/PUTEiSjKwJU/default.jpg   \n",
            "4         2             30  https://i.ytimg.com/vi/rHwDegptbI4/default.jpg   \n",
            "\n",
            "   comments_disabled  ratings_disabled  video_error_or_removed  \\\n",
            "0              False             False                   False   \n",
            "1              False             False                   False   \n",
            "2              False             False                   False   \n",
            "3              False             False                   False   \n",
            "4              False             False                   False   \n",
            "\n",
            "                                         description  \n",
            "0  Click here to continue the story and make your...  \n",
            "1  Musical guest Taylor Swift performs â¦Ready f...  \n",
            "2  Eminem's new track Walk on Water ft. BeyoncÃ© ...  \n",
            "3  Salford drew 4-4 against the Class of 92 and F...  \n",
            "4  Dashcam captures truck's near miss with child ...  \n",
            "Đang đọc tệp: /content/drive/MyDrive/Colab Notebooks/data-ytb/INvideos.csv\n",
            "      video_id trending_date  \\\n",
            "0  kzwfHumJyYc      17.14.11   \n",
            "1  zUZ1z7FwLc8      17.14.11   \n",
            "2  10L1hZ9qa58      17.14.11   \n",
            "3  N1vE8iiEg64      17.14.11   \n",
            "4  kJzGH0PVQHQ      17.14.11   \n",
            "\n",
            "                                               title    channel_title  \\\n",
            "0  Sharry Mann: Cute Munda ( Song Teaser) | Parmi...  Lokdhun Punjabi   \n",
            "1  à¤ªà¥à¤°à¤¿à¤¯à¤¡à¥à¤¸ à¤à¥ à¤¸à¤®à¤¯, à¤ª...          HJ NEWS   \n",
            "2  Stylish Star Allu Arjun @ ChaySam Wedding Rece...             TFPC   \n",
            "3                     Eruma Saani | Tamil vs English      Eruma Saani   \n",
            "4  why Samantha became EMOTIONAL @ Samantha naga ...       Filmylooks   \n",
            "\n",
            "   category_id              publish_time  \\\n",
            "0            1  2017-11-12T12:20:39.000Z   \n",
            "1           25  2017-11-13T05:43:56.000Z   \n",
            "2           24  2017-11-12T15:48:08.000Z   \n",
            "3           23  2017-11-12T07:08:48.000Z   \n",
            "4           24  2017-11-13T01:14:16.000Z   \n",
            "\n",
            "                                                tags    views  likes  \\\n",
            "0  sharry mann|\"sharry mann new song\"|\"sharry man...  1096327  33966   \n",
            "1  à¤ªà¥à¤°à¤¿à¤¯à¤¡à¥à¤¸ à¤à¥ à¤¸à¤®à¤¯|\"à¤ª...   590101    735   \n",
            "2  Stylish Star Allu Arjun @ ChaySam Wedding Rece...   473988   2011   \n",
            "3  Eruma Saani|\"Tamil Comedy Videos\"|\"Films\"|\"Mov...  1242680  70353   \n",
            "4  Filmylooks|\"latest news\"|\"telugu movies\"|\"telu...   464015    492   \n",
            "\n",
            "   dislikes  comment_count                                  thumbnail_link  \\\n",
            "0       798            882  https://i.ytimg.com/vi/kzwfHumJyYc/default.jpg   \n",
            "1       904              0  https://i.ytimg.com/vi/zUZ1z7FwLc8/default.jpg   \n",
            "2       243            149  https://i.ytimg.com/vi/10L1hZ9qa58/default.jpg   \n",
            "3      1624           2684  https://i.ytimg.com/vi/N1vE8iiEg64/default.jpg   \n",
            "4       293             66  https://i.ytimg.com/vi/kJzGH0PVQHQ/default.jpg   \n",
            "\n",
            "   comments_disabled  ratings_disabled  video_error_or_removed  \\\n",
            "0              False             False                   False   \n",
            "1               True             False                   False   \n",
            "2              False             False                   False   \n",
            "3              False             False                   False   \n",
            "4              False             False                   False   \n",
            "\n",
            "                                         description  \n",
            "0  Presenting Sharry Mann latest Punjabi Song  Cu...  \n",
            "1  à¤ªà¥à¤°à¤¿à¤¯à¤¡à¥à¤¸ à¤à¥ à¤¸à¤®à¤¯, à¤ª...  \n",
            "2  Watch Stylish Star Allu Arjun @ ChaySam Weddin...  \n",
            "3  This video showcases the difference between pe...  \n",
            "4  why Samantha became EMOTIONAL @ Samantha naga ...  \n",
            "Đang đọc tệp: /content/drive/MyDrive/Colab Notebooks/data-ytb/JPvideos.csv\n",
            "      video_id trending_date  \\\n",
            "0  5ugKfHgsmYw      18.07.02   \n",
            "1  ohObafdd34Y      18.07.02   \n",
            "2  aBr2kKAHN6M      18.07.02   \n",
            "3  5wNnwChvmsQ      18.07.02   \n",
            "4  B7J47qFvdsk      18.07.02   \n",
            "\n",
            "                                               title  \\\n",
            "0  é¸èªããªãåç´ã«è½ä¸ï¼è·¯ä¸ã®è»ã...   \n",
            "1  ã¤ããQ ãç¥­ãç·å®®å·Ãæè¶ å·¨å¤§ã...   \n",
            "2                              Live Views of Starman   \n",
            "3  æ±äº¬ãã£ãºãã¼ãªã¾ã¼ãã®åã­ã£ã...   \n",
            "4  æ¦®åå¥ããè¡æã®æ­»ãã ãµãï¼æ ç...   \n",
            "\n",
            "                    channel_title  category_id              publish_time  \\\n",
            "0  æäºéä¿¡æ åã»ã³ã¿ã¼           25  2018-02-06T03:04:37.000Z   \n",
            "1  ç¥è°·ãããª Kamiya Erina 2            1  2018-02-06T04:01:56.000Z   \n",
            "2                          SpaceX           28  2018-02-06T21:38:22.000Z   \n",
            "3           ã¢ã·ã¿ãã¯ãã¤           25  2018-02-06T06:08:49.000Z   \n",
            "4           ã·ãããã¥ãã¤            1  2018-02-06T02:30:00.000Z   \n",
            "\n",
            "                                                tags    views   likes  \\\n",
            "0  äºæ|\"ä½è³\"|\"ä½è³ç\"|\"ããªã³ãã¿ã...   188085     591   \n",
            "1                                             [none]    90929     442   \n",
            "2                                             [none]  6408303  165892   \n",
            "3                              ã¢ã·ã¿ãã¯ãã¤    96255    1165   \n",
            "4                                             [none]   108408    1336   \n",
            "\n",
            "   dislikes  comment_count                                  thumbnail_link  \\\n",
            "0       189              0  https://i.ytimg.com/vi/5ugKfHgsmYw/default.jpg   \n",
            "1        88            174  https://i.ytimg.com/vi/ohObafdd34Y/default.jpg   \n",
            "2      2331           3006  https://i.ytimg.com/vi/aBr2kKAHN6M/default.jpg   \n",
            "3       277            545  https://i.ytimg.com/vi/5wNnwChvmsQ/default.jpg   \n",
            "4        74            201  https://i.ytimg.com/vi/B7J47qFvdsk/default.jpg   \n",
            "\n",
            "   comments_disabled  ratings_disabled  video_error_or_removed  \\\n",
            "0               True             False                   False   \n",
            "1              False             False                   False   \n",
            "2              False             False                   False   \n",
            "3              False             False                   False   \n",
            "4              False             False                   False   \n",
            "\n",
            "                                         description  \n",
            "0  ä½è³çç¥å¼å¸ã®æ°å®¶ã«å¢è½ããé¸ä...  \n",
            "1                                                NaN  \n",
            "2                                                NaN  \n",
            "3  æ±äº¬ãã£ãºãã¼ãªã¾ã¼ãã®åã­ã£ã...  \n",
            "4  å®¶ã«å¸°ã£ã¦ãããµã©ãªã¼ãã³ã®ãã...  \n",
            "Đang đọc tệp: /content/drive/MyDrive/Colab Notebooks/data-ytb/KRvideos.csv\n",
            "      video_id trending_date  \\\n",
            "0  RxGQe4EeEpA      17.14.11   \n",
            "1  hH7wVE8OlQ0      17.14.11   \n",
            "2  9V8bnWUmE9U      17.14.11   \n",
            "3  0_8py-t5R80      17.14.11   \n",
            "4  bk55RbxiQdI      17.14.11   \n",
            "\n",
            "                                               title  \\\n",
            "0           ì¢ì by ë¯¼ì_ì¤ì¢ì _ì¢ë ëµê°   \n",
            "1                 JSA ê·ì ë¶íêµ° ì´ê²© ë¶ì   \n",
            "2  ëëª°ë¼í¨ë°ë¦¬ ì´ëí ìì 2í (ë¹¼ë...   \n",
            "3  ááµáá§á¼áá¡á¨ ì¶êµ­ íì¥, ëì¹...   \n",
            "4  ê¹ì¥ê²¸ì ë¬¼ë¬ê°ë¤ MBC ë¸ì¡° íí¸ì...   \n",
            "\n",
            "               channel_title  category_id              publish_time  \\\n",
            "0         ë¼í¸ë§ì½ë¦¬ì           22  2017-11-13T07:07:36.000Z   \n",
            "1                     Edward           25  2017-11-13T10:59:16.000Z   \n",
            "2  ëëª°ë¼í¨ë°ë¦¬ í«ì¼           22  2017-11-11T07:16:08.000Z   \n",
            "3            ë¯¸ëì´ëª½êµ¬           25  2017-11-12T11:19:52.000Z   \n",
            "4                     NocutV           25  2017-11-13T11:08:59.000Z   \n",
            "\n",
            "                                                tags   views  likes  dislikes  \\\n",
            "0  ë¼í¸ë§|\"ì¤ì¢ì \"|\"ì¢ë\"|\"ì¢ì\"|\"ì¬ë ...  156130   1422        40   \n",
            "1  JSA|\"ê·ì\"|\"ë¶íêµ°\"|\"ì´ê²©\"|\"ë¶ì\"|\"JS...   76533    211        28   \n",
            "2  ìëë¤ì¤|\"ë¹¼ë¹¼ë¡\"|\"í«ì¼\"|\"ëëª°ë¼í...  421409   5112       166   \n",
            "3  ì´ëªë°|\"ì´ëªë° ì¶êµ­ê¸ì§\"|\"ì´ëªë° ...  222850   2093       173   \n",
            "4  nocutV|\"ë¸ì»·V\"|\"CBS\"|\"mbc\"|\"ê¹ì¥ê²¸\"|\"í´ì...   84466   1094       109   \n",
            "\n",
            "   comment_count                                  thumbnail_link  \\\n",
            "0            272  https://i.ytimg.com/vi/RxGQe4EeEpA/default.jpg   \n",
            "1            113  https://i.ytimg.com/vi/hH7wVE8OlQ0/default.jpg   \n",
            "2            459  https://i.ytimg.com/vi/9V8bnWUmE9U/default.jpg   \n",
            "3           1219  https://i.ytimg.com/vi/0_8py-t5R80/default.jpg   \n",
            "4            450  https://i.ytimg.com/vi/bk55RbxiQdI/default.jpg   \n",
            "\n",
            "   comments_disabled  ratings_disabled  video_error_or_removed  \\\n",
            "0              False             False                   False   \n",
            "1              False             False                   False   \n",
            "2              False             False                   False   \n",
            "3              False             False                   False   \n",
            "4              False             False                   False   \n",
            "\n",
            "                                         description  \n",
            "0  ì¤ì¢ì  'ì¢ë'ì ëµê° 'ì¢ì' ìµì´ ê...  \n",
            "1  [ì±ëAë¨ë]å ë³ì¬ íì¬ 'ììë¶ëª...  \n",
            "2            í¼ê°ì¤ë ê¼­ ì¶ì² ë¶íëë ¤ì  \n",
            "3    ë¤ì¤ë ëêµ¬ê²ëê¹ ë£ê³  ë í íì   \n",
            "4  ê¹ì¥ê²¸ MBC ì¬ì¥ì´ ê²°êµ­ í´ìëë¤.\\n...  \n",
            "Đang đọc tệp: /content/drive/MyDrive/Colab Notebooks/data-ytb/MXvideos.csv\n",
            "      video_id trending_date  \\\n",
            "0  SbOwzAl9ZfQ      17.14.11   \n",
            "1  klOV6Xh-DnI      17.14.11   \n",
            "2  6L2ZF7Qzsbk      17.14.11   \n",
            "3  hcY52MFWMDM      17.14.11   \n",
            "4  _OXDcGPVAa4      17.14.11   \n",
            "\n",
            "                                               title  \\\n",
            "0                     CapÃ­tulo 12 | MasterChef 2017   \n",
            "1  ALEXA EX-INTEGRANTE DEL GRUPO TIMBIRICHE RENUN...   \n",
            "2           LOUIS CKAGÃ - EL PULSO DE LA REPÃBLICA   \n",
            "3   Sismo de 6.7 sacude Costa Rica 12 Noviembre 2017   \n",
            "4           DOG HACKS | MUSAS LESSLIE LOS POLINESIOS   \n",
            "\n",
            "               channel_title  category_id              publish_time  \\\n",
            "0            MasterChef 2017           24  2017-11-13T06:06:22.000Z   \n",
            "1   Micky Contreras Martinez           22  2017-11-13T05:11:58.000Z   \n",
            "2  El Pulso De La RepÃºblica           25  2017-11-13T17:00:02.000Z   \n",
            "3                   Casanare           25  2017-11-13T03:47:10.000Z   \n",
            "4                      Musas           26  2017-11-13T19:17:48.000Z   \n",
            "\n",
            "                                                tags   views  likes  dislikes  \\\n",
            "0  MasterChef Junior 2017|\"TV Azteca\"|\"recetas\"|\"...  310130   4182       361   \n",
            "1                                    La Voz Mexico 7  104972    271       174   \n",
            "2  Chumel Torres|\"El Pulso de la Republica\"|\"noti...  136064  10105       266   \n",
            "3         temblor|\"costa rica\"|\"sismo en costa rica\"   96153    378       171   \n",
            "4  MUSAS|\"lesslie\"|\"karen\"|\"hacks\"|\"perros\"|\"dogs...  499965  57781       681   \n",
            "\n",
            "   comment_count                                  thumbnail_link  \\\n",
            "0           1836  https://i.ytimg.com/vi/SbOwzAl9ZfQ/default.jpg   \n",
            "1            369  https://i.ytimg.com/vi/klOV6Xh-DnI/default.jpg   \n",
            "2            607  https://i.ytimg.com/vi/6L2ZF7Qzsbk/default.jpg   \n",
            "3            208  https://i.ytimg.com/vi/hcY52MFWMDM/default.jpg   \n",
            "4           7428  https://i.ytimg.com/vi/_OXDcGPVAa4/default.jpg   \n",
            "\n",
            "   comments_disabled  ratings_disabled  video_error_or_removed  \\\n",
            "0              False             False                   False   \n",
            "1              False             False                   False   \n",
            "2              False             False                   False   \n",
            "3              False             False                   False   \n",
            "4              False             False                   False   \n",
            "\n",
            "                                         description  \n",
            "0  Disfruta la presencia del Chef Torreblanca en ...  \n",
            "1  ALEXA EX-INTEGRANTE DEL GRUPO TIMBIRICHE RENUN...  \n",
            "2  La canciÃ³n del principio se llama âEste esp...  \n",
            "3  El video es de un Walmart en el pais centroame...  \n",
            "4  MI HERMANO NARRA MI RUTINA DE MAQUILLAJE\\nhttp...  \n",
            "Đang đọc tệp: /content/drive/MyDrive/Colab Notebooks/data-ytb/RUvideos.csv\n",
            "      video_id trending_date  \\\n",
            "0  gDuslQ9avLc      17.14.11   \n",
            "1  AOCJIFEA_jE      17.14.11   \n",
            "2  VAWNQDgwwOM      17.14.11   \n",
            "3  gknkFwKQfHg      17.14.11   \n",
            "4  3sYvZcwzZr8      17.14.11   \n",
            "\n",
            "                                               title       channel_title  \\\n",
            "0  ÐÐ°ÑÐ°Ñ Ð¸ ÐÐ¾Ð»Ð¸Ð½Ð° ÑÑÐ°ÑÑÑ ÑÐºÐ¾...  Ð¢âÐ ÐÐÐÐÐ§   \n",
            "1  ÐÐ¸ÑÐ¶Ð° ÐÐµÐ¼Ð¾Ð² #29. ÐÐ¾Ð»ÑÑÐ¾Ð¸Ì Ð²...        Druzhko Show   \n",
            "2  Ð¥ÐÐÐ ÐÐ­ÐÐ - Ð¡ÐÐÐ Ð¡Ð ÐÐÐ Ð§Ð£Ð...            Ð®Ð»Ð¸Ðº   \n",
            "3  Ð¡Ð¾ÑÐ½Ð°Ñ ÐºÐµÑÐ°Ð´Ð¸Ð»ÑÑ Ñ ÐºÑÑÐ¸ÑÐµÐ¹            Hochland   \n",
            "4  ÐÐÐÐÐ« Ð ÐÐÐÐ¢ÐÐÐÐ ÐÐ Ð¨ÐÐÐÐ¬Ð...    Ð¡Ð¾Ð²ÐµÑÐ³Ð¾Ð½   \n",
            "\n",
            "   category_id              publish_time  \\\n",
            "0           22  2017-11-13T09:09:31.000Z   \n",
            "1           22  2017-11-13T17:32:11.000Z   \n",
            "2           24  2017-11-13T16:11:31.000Z   \n",
            "3           22  2017-11-13T06:51:10.000Z   \n",
            "4           24  2017-11-13T16:52:36.000Z   \n",
            "\n",
            "                                                tags   views  likes  dislikes  \\\n",
            "0  Ð·Ð°ÑÐ°Ñ Ð¸ Ð¿Ð¾Ð»Ð¸Ð½Ð°|\"ÑÑÐ¸Ð¼ÑÑ ÑÐºÐ...   62408    334       190   \n",
            "1  Ð±Ð¸ÑÐ¶Ð° Ð¼ÐµÐ¼Ð¾Ð²|\"Ð»ÐµÐ² ÑÐ°Ð³Ð¸Ð½ÑÐ½\"|...  330043  43841      2244   \n",
            "2  ÑÐ¼Ð¾Ñ|\"ÐºÐ¾Ð¼ÐµÐ´Ð¸Ñ\"|\"Ð²Ð»Ð¾Ð³\"|\"Ð±Ð»Ð¾Ð³...  424596  49854       714   \n",
            "3  ÑÐ¾ÑÐ»Ð°Ð½Ð´|\"ÑÑÑ\"|\"ÑÐµÑÐµÐ¿ÑÑ\"|\"ÐºÐ°...  112851   3566       122   \n",
            "4  Ð¡Ð¾Ð²ÐµÑÐ³Ð¾Ð½|\"Sovergon\"|\"ÐºÐ»Ð¸Ð¿Ñ\"|\"ÑÐ¾...  243469  36216       631   \n",
            "\n",
            "   comment_count                                  thumbnail_link  \\\n",
            "0             50  https://i.ytimg.com/vi/gDuslQ9avLc/default.jpg   \n",
            "1           2977  https://i.ytimg.com/vi/AOCJIFEA_jE/default.jpg   \n",
            "2           2944  https://i.ytimg.com/vi/VAWNQDgwwOM/default.jpg   \n",
            "3             80  https://i.ytimg.com/vi/gknkFwKQfHg/default.jpg   \n",
            "4           1692  https://i.ytimg.com/vi/3sYvZcwzZr8/default.jpg   \n",
            "\n",
            "   comments_disabled  ratings_disabled  video_error_or_removed  \\\n",
            "0              False             False                   False   \n",
            "1              False             False                   False   \n",
            "2              False             False                   False   \n",
            "3              False             False                   False   \n",
            "4              False             False                   False   \n",
            "\n",
            "                                         description  \n",
            "0  ÐÐ½Ð°ÐºÐ¾Ð¼ÑÑÐµÑÑ, ÑÑÐ¾ ÐÐ°ÑÐ°Ñ Ð¸ Ð...  \n",
            "1  Ð 29 Ð²ÑÐ¿ÑÑÐºÐµ ÐÑÑÐ¶ÐºÐ¾ Ð¨Ð¾Ñ Ð¡ÐµÑ...  \n",
            "2  http://kapitany.ru/!Yulik.cap - Ð¤Ð°ÐºÑÐ»ÑÑ...  \n",
            "3  *** ÐºÐ°Ðº Ð³Ð¾ÑÐ¾Ð²Ð¸ÑÑ ÑÐµÑÑÐ¾ÑÐ°Ð½Ð½...  \n",
            "4  â ÐÐÐÐÐ£Ð Ð¡ ÐÐÐÐÐ¢ÐÐÐ«: http://ka...  \n",
            "Đang đọc tệp: /content/drive/MyDrive/Colab Notebooks/data-ytb/USvideos.csv\n",
            "      video_id trending_date  \\\n",
            "0  2kyS6SvSYSE      17.14.11   \n",
            "1  1ZAPwfrtAFY      17.14.11   \n",
            "2  5qpjK5DgCt4      17.14.11   \n",
            "3  puqaWrEC7tY      17.14.11   \n",
            "4  d380meD0W0M      17.14.11   \n",
            "\n",
            "                                               title          channel_title  \\\n",
            "0                 WE WANT TO TALK ABOUT OUR MARRIAGE           CaseyNeistat   \n",
            "1  The Trump Presidency: Last Week Tonight with J...        LastWeekTonight   \n",
            "2  Racist Superman | Rudy Mancuso, King Bach & Le...           Rudy Mancuso   \n",
            "3                   Nickelback Lyrics: Real or Fake?  Good Mythical Morning   \n",
            "4                           I Dare You: GOING BALD!?               nigahiga   \n",
            "\n",
            "   category_id              publish_time  \\\n",
            "0           22  2017-11-13T17:13:01.000Z   \n",
            "1           24  2017-11-13T07:30:00.000Z   \n",
            "2           23  2017-11-12T19:05:24.000Z   \n",
            "3           24  2017-11-13T11:00:04.000Z   \n",
            "4           24  2017-11-12T18:01:41.000Z   \n",
            "\n",
            "                                                tags    views   likes  \\\n",
            "0                                    SHANtell martin   748374   57527   \n",
            "1  last week tonight trump presidency|\"last week ...  2418783   97185   \n",
            "2  racist superman|\"rudy\"|\"mancuso\"|\"king\"|\"bach\"...  3191434  146033   \n",
            "3  rhett and link|\"gmm\"|\"good mythical morning\"|\"...   343168   10172   \n",
            "4  ryan|\"higa\"|\"higatv\"|\"nigahiga\"|\"i dare you\"|\"...  2095731  132235   \n",
            "\n",
            "   dislikes  comment_count                                  thumbnail_link  \\\n",
            "0      2966          15954  https://i.ytimg.com/vi/2kyS6SvSYSE/default.jpg   \n",
            "1      6146          12703  https://i.ytimg.com/vi/1ZAPwfrtAFY/default.jpg   \n",
            "2      5339           8181  https://i.ytimg.com/vi/5qpjK5DgCt4/default.jpg   \n",
            "3       666           2146  https://i.ytimg.com/vi/puqaWrEC7tY/default.jpg   \n",
            "4      1989          17518  https://i.ytimg.com/vi/d380meD0W0M/default.jpg   \n",
            "\n",
            "   comments_disabled  ratings_disabled  video_error_or_removed  \\\n",
            "0              False             False                   False   \n",
            "1              False             False                   False   \n",
            "2              False             False                   False   \n",
            "3              False             False                   False   \n",
            "4              False             False                   False   \n",
            "\n",
            "                                         description  \n",
            "0  SHANTELL'S CHANNEL - https://www.youtube.com/s...  \n",
            "1  One year after the presidential election, John...  \n",
            "2  WATCH MY PREVIOUS VIDEO â¶ \\n\\nSUBSCRIBE âº ...  \n",
            "3  Today we find out if Link is a Nickelback amat...  \n",
            "4  I know it's been a while since we did this sho...  \n"
          ]
        }
      ]
    },
    {
      "cell_type": "code",
      "source": [
        "from google.colab import drive\n",
        "drive.mount('/content/drive')"
      ],
      "metadata": {
        "id": "hUuXAYZTkiCe"
      },
      "execution_count": null,
      "outputs": []
    },
    {
      "cell_type": "markdown",
      "source": [
        "## 1.3 Xem thông tin của Dataset"
      ],
      "metadata": {
        "id": "KbPUlDKaoMrw"
      }
    },
    {
      "cell_type": "markdown",
      "source": [
        "# 2. Assess data:\n",
        "\n",
        "---\n",
        "\n"
      ],
      "metadata": {
        "id": "WI2VuGjsoQ99"
      }
    },
    {
      "cell_type": "markdown",
      "source": [
        "## 2.1 Thêm cột"
      ],
      "metadata": {
        "id": "wfEdeiKpoW2x"
      }
    },
    {
      "cell_type": "markdown",
      "source": [
        "##**Nhận xét dữ liệu:**\n",
        "-\n",
        "-\n",
        "-"
      ],
      "metadata": {
        "id": "psyz2As_ocKT"
      }
    },
    {
      "cell_type": "markdown",
      "source": [
        "# 3. Clean data:"
      ],
      "metadata": {
        "id": "V9IhMPEuofR7"
      }
    },
    {
      "cell_type": "markdown",
      "source": [
        "#**4.Save new after clean**"
      ],
      "metadata": {
        "id": "uQW6Ip8qok-U"
      }
    },
    {
      "cell_type": "markdown",
      "source": [
        "# **5.Answer the research question (Visuazation)**"
      ],
      "metadata": {
        "id": "WJxwlzc8op-r"
      }
    },
    {
      "cell_type": "markdown",
      "source": [
        "##**Trần Phan Minh Tiến**\n",
        "### **Question 1**:Biểu đồ đường giá đóng cửa trong 10 năm qua theo thời gian"
      ],
      "metadata": {
        "id": "lnchy1kEo0m4"
      }
    },
    {
      "cell_type": "code",
      "source": [],
      "metadata": {
        "id": "mTQMvS_Ko7kB"
      },
      "execution_count": null,
      "outputs": []
    },
    {
      "cell_type": "markdown",
      "source": [
        "##**Trần Phan Minh Tiến**\n",
        "### **Question 2**:Biểu đồ cột khối lượng giao dịch theo năm 2015 - 2025"
      ],
      "metadata": {
        "id": "O2qQZ29Lo8pB"
      }
    },
    {
      "cell_type": "code",
      "source": [],
      "metadata": {
        "id": "VEG_uAappBsb"
      },
      "execution_count": null,
      "outputs": []
    },
    {
      "cell_type": "markdown",
      "source": [
        "##**Trần Minh Thuận**\n",
        "### **Question 3**:Biểu đồ thể hiện khối lượng giao dịch theo từng tháng năm 2024"
      ],
      "metadata": {
        "id": "PM40TWHbpFC7"
      }
    },
    {
      "cell_type": "code",
      "source": [],
      "metadata": {
        "id": "ctg0kOLrpJ0-"
      },
      "execution_count": null,
      "outputs": []
    },
    {
      "cell_type": "markdown",
      "source": [
        "##**Trần Minh Thuận**\n",
        "### **Question 4**:Vẽ biểu đồ lợi nhuận hàng tháng năm 2024"
      ],
      "metadata": {
        "id": "q5NoihZopKUc"
      }
    },
    {
      "cell_type": "code",
      "source": [],
      "metadata": {
        "id": "sZU9Jpc5pRPl"
      },
      "execution_count": null,
      "outputs": []
    },
    {
      "cell_type": "markdown",
      "source": [
        "##**Hoàng Văn Đức**\n",
        "### **Question 5**:Vẽ biểu đồ thể hiện Số lượng chứng khoán bán theo quý (2015, 2020, 2024)"
      ],
      "metadata": {
        "id": "sgMq3wNbpSAv"
      }
    },
    {
      "cell_type": "code",
      "source": [],
      "metadata": {
        "id": "OAzM37u7pW1Z"
      },
      "execution_count": null,
      "outputs": []
    },
    {
      "cell_type": "markdown",
      "source": [
        "##**Hoàng Văn Đức**\n",
        "### **Question 6**:Vẽ biểu đồ thể hiện Giá cao trung bình theo ngày trong tuần năm 2024"
      ],
      "metadata": {
        "id": "gSYF5bttpXmS"
      }
    },
    {
      "cell_type": "code",
      "source": [],
      "metadata": {
        "id": "YLJPiI6WpaOh"
      },
      "execution_count": null,
      "outputs": []
    },
    {
      "cell_type": "markdown",
      "source": [
        "###**Nhận xét:**\n",
        "- Qua biểu đồ ta có thể thấy ...\n",
        "\n",
        "- AAPL biến động ... giảm ... tăng ... giảm... tăng ...\n",
        "\n",
        "- META biến động ... giảm ... tăng ... giảm... tăng ...\n",
        "\n",
        "###**Lý do (Khuyến nghị)**\n",
        "- Lý do cho sự biến đổi là do vào năm ... có vấn đề ... năm ... có ....\n"
      ],
      "metadata": {
        "id": "5-vvWhVBpdaE"
      }
    }
  ]
}